{
 "cells": [
  {
   "cell_type": "markdown",
   "id": "d89935fc",
   "metadata": {},
   "source": [
    "# Movie prediction"
   ]
  },
  {
   "cell_type": "code",
   "execution_count": 5,
   "id": "1ce72167",
   "metadata": {},
   "outputs": [],
   "source": [
    "import pandas as pd\n",
    "import numpy as np\n",
    "from sklearn.model_selection import train_test_split\n",
    "from sklearn.feature_extraction.text import TfidfVectorizer\n",
    "from sklearn.preprocessing import LabelEncoder\n",
    "from sklearn.ensemble import RandomForestClassifier\n",
    "from sklearn.metrics import classification_report, accuracy_score"
   ]
  },
  {
   "cell_type": "code",
   "execution_count": 7,
   "id": "e274a4b0",
   "metadata": {},
   "outputs": [
    {
     "name": "stdout",
     "output_type": "stream",
     "text": [
      "      id                                         movie_name  \\\n",
      "0  44978                                           Super Me   \n",
      "1  50185                                     Entity Project   \n",
      "2  34131  Behavioral Family Therapy for Serious Psychiat...   \n",
      "3  78522                                      Blood Glacier   \n",
      "4   2206                                      Apat na anino   \n",
      "\n",
      "                                            synopsis    genre  \n",
      "0  A young scriptwriter starts bringing valuable ...  fantasy  \n",
      "1  A director and her friends renting a haunted h...   horror  \n",
      "2  This is an educational video for families and ...   family  \n",
      "3  Scientists working in the Austrian Alps discov...    scifi  \n",
      "4  Buy Day - Four Men Widely - Apart in Life - By...   action  \n"
     ]
    }
   ],
   "source": [
    "# Step 1: Load the dataset\n",
    "data = pd.read_csv(\"MOVIE DATASET.csv\")\n",
    "\n",
    "# Step 2: Explore the data\n",
    "print(data.head())"
   ]
  },
  {
   "cell_type": "code",
   "execution_count": 8,
   "id": "bae33f7c",
   "metadata": {},
   "outputs": [
    {
     "name": "stdout",
     "output_type": "stream",
     "text": [
      "\n",
      "Missing values:\n",
      "id            0\n",
      "movie_name    0\n",
      "synopsis      0\n",
      "genre         0\n",
      "dtype: int64\n"
     ]
    }
   ],
   "source": [
    "# Check for missing values\n",
    "print(\"\\nMissing values:\")\n",
    "print(data.isnull().sum())\n",
    "\n",
    "# Drop rows with missing values (optional)\n",
    "data.dropna(inplace=True)\n",
    "\n",
    "# Step 3: Text Preprocessing (synopsis)\n",
    "# Use TfidfVectorizer to convert the movie synopsis into numerical features\n",
    "tfidf = TfidfVectorizer(stop_words='english', max_features=5000)\n",
    "X = tfidf.fit_transform(data['synopsis'])\n",
    "\n",
    "# Step 4: Encode the target variable 'genre'\n",
    "label_encoder = LabelEncoder()\n",
    "y = label_encoder.fit_transform(data['genre'])"
   ]
  },
  {
   "cell_type": "code",
   "execution_count": 11,
   "id": "649347fb",
   "metadata": {},
   "outputs": [
    {
     "name": "stdout",
     "output_type": "stream",
     "text": [
      "Accuracy: 0.2735\n"
     ]
    }
   ],
   "source": [
    "el = RandomForestClassifier(n_estimators=100, random_state=42)\n",
    "model.fit(X_train, y_train)\n",
    "\n",
    "# Step 7: Make predictions on the test set\n",
    "y_pred = model.predict(X_test)\n",
    "\n",
    "# Step 8: Evaluate the model\n",
    "accuracy = accuracy_score(y_test, y_pred)\n",
    "print(f\"Accuracy: {accuracy:.4f}\")"
   ]
  },
  {
   "cell_type": "code",
   "execution_count": 12,
   "id": "ff81d1ae",
   "metadata": {},
   "outputs": [
    {
     "name": "stdout",
     "output_type": "stream",
     "text": [
      "\n",
      "Classification Report:\n",
      "              precision    recall  f1-score   support\n",
      "\n",
      "      action       0.21      0.16      0.19      1643\n",
      "   adventure       0.19      0.17      0.18      1597\n",
      "       crime       0.29      0.32      0.31      1672\n",
      "      family       0.29      0.38      0.33      1589\n",
      "     fantasy       0.19      0.14      0.16      1613\n",
      "      horror       0.32      0.34      0.33      1656\n",
      "     mystery       0.20      0.22      0.21      1578\n",
      "     romance       0.38      0.53      0.44      1594\n",
      "       scifi       0.34      0.40      0.37      1612\n",
      "    thriller       0.15      0.08      0.10      1646\n",
      "\n",
      "    accuracy                           0.27     16200\n",
      "   macro avg       0.26      0.27      0.26     16200\n",
      "weighted avg       0.26      0.27      0.26     16200\n",
      "\n",
      "\n",
      "Predicted Genre: ['action']\n"
     ]
    }
   ],
   "source": [
    "# Classification Report\n",
    "print(\"\\nClassification Report:\")\n",
    "print(classification_report(y_test, y_pred, target_names=label_encoder.classes_))\n",
    "\n",
    "# Step 9: Predict a new movie genre (example)\n",
    "sample_movie = [\"A thrilling action movie with lots of fight scenes and stunts.\"]\n",
    "sample_tfidf = tfidf.transform(sample_movie)\n",
    "predicted_genre = model.predict(sample_tfidf)\n",
    "print(f\"\\nPredicted Genre: {label_encoder.inverse_transform(predicted_genre)}\")"
   ]
  },
  {
   "cell_type": "code",
   "execution_count": null,
   "id": "b904d286",
   "metadata": {},
   "outputs": [],
   "source": []
  }
 ],
 "metadata": {
  "kernelspec": {
   "display_name": "Python 3 (ipykernel)",
   "language": "python",
   "name": "python3"
  },
  "language_info": {
   "codemirror_mode": {
    "name": "ipython",
    "version": 3
   },
   "file_extension": ".py",
   "mimetype": "text/x-python",
   "name": "python",
   "nbconvert_exporter": "python",
   "pygments_lexer": "ipython3",
   "version": "3.9.12"
  }
 },
 "nbformat": 4,
 "nbformat_minor": 5
}
