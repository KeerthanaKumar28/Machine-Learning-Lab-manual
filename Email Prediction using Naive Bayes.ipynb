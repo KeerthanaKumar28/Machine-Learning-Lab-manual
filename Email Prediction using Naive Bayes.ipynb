{
 "cells": [
  {
   "cell_type": "markdown",
   "id": "0f45a6f9",
   "metadata": {},
   "source": [
    "# Classify Email as Spam or NotSpam using Naive Bayes Algorithm"
   ]
  },
  {
   "cell_type": "code",
   "execution_count": 1,
   "id": "f30b0d43",
   "metadata": {},
   "outputs": [
    {
     "name": "stdout",
     "output_type": "stream",
     "text": [
      "Cross-Validation Accuracy:0.33\n",
      "Test Acuuracy:0.20\n",
      "\n",
      " Classification Report:\n",
      "               precision    recall  f1-score   support\n",
      "\n",
      "           0       0.00      0.00      0.00         4\n",
      "           1       0.20      1.00      0.33         1\n",
      "\n",
      "    accuracy                           0.20         5\n",
      "   macro avg       0.10      0.50      0.17         5\n",
      "weighted avg       0.04      0.20      0.07         5\n",
      "\n",
      "\n",
      "Model saved as 'spam_classifier_model.pkl',\n",
      "\n",
      "Prediction for test email(0=not spam,1=spam): 1\n"
     ]
    },
    {
     "name": "stderr",
     "output_type": "stream",
     "text": [
      "[nltk_data] Downloading package stopwords to\n",
      "[nltk_data]     C:\\Users\\1mscds43\\AppData\\Roaming\\nltk_data...\n",
      "[nltk_data]   Package stopwords is already up-to-date!\n",
      "C:\\ProgramData\\Anaconda3\\lib\\site-packages\\sklearn\\metrics\\_classification.py:1318: UndefinedMetricWarning: Precision and F-score are ill-defined and being set to 0.0 in labels with no predicted samples. Use `zero_division` parameter to control this behavior.\n",
      "  _warn_prf(average, modifier, msg_start, len(result))\n",
      "C:\\ProgramData\\Anaconda3\\lib\\site-packages\\sklearn\\metrics\\_classification.py:1318: UndefinedMetricWarning: Precision and F-score are ill-defined and being set to 0.0 in labels with no predicted samples. Use `zero_division` parameter to control this behavior.\n",
      "  _warn_prf(average, modifier, msg_start, len(result))\n",
      "C:\\ProgramData\\Anaconda3\\lib\\site-packages\\sklearn\\metrics\\_classification.py:1318: UndefinedMetricWarning: Precision and F-score are ill-defined and being set to 0.0 in labels with no predicted samples. Use `zero_division` parameter to control this behavior.\n",
      "  _warn_prf(average, modifier, msg_start, len(result))\n"
     ]
    }
   ],
   "source": [
    "#import necessary libraries\n",
    "import re\n",
    "from sklearn.feature_extraction.text import TfidfVectorizer\n",
    "from sklearn.naive_bayes import MultinomialNB\n",
    "from sklearn.model_selection import train_test_split,cross_val_score\n",
    "from sklearn.metrics import accuracy_score,classification_report\n",
    "from sklearn.pipeline import Pipeline\n",
    "import joblib\n",
    "from nltk.corpus import stopwords\n",
    "from nltk.stem.porter import PorterStemmer\n",
    "#Dowload stopwords if not already done\n",
    "import nltk\n",
    "nltk.download('stopwords')\n",
    "emails=[\n",
    "       \"Congratulations,you won a free ticket to Bahamas!\",\n",
    "       \"Hello,can we reschedule the meeting for tomorrow?\",\n",
    "       \"Exclusive deal just for you,claim your free iphone now!\",\n",
    "       \"Dear team,please find the report attached.\",\t\n",
    "       \"Win a $1,000 gift card by clicking this link!\",\n",
    "       \"Remainder:your appointment is scheduled for Monday at 3PM.\",\n",
    "       \"Limited time offer!Get 50% off on all products,\",\n",
    "       \"Hai Mam,I'll call you later tonight.\",\n",
    "       \"Claim your lotter prize now before it expires!\",\n",
    "       \"You account balance is low.please deposit funds.\",\n",
    "       \"Special promotion just for you:Buy one,get one free!\",\n",
    "       \"Don't forget to submit the assignmnet before friday.\",\n",
    "       \"Urgent!update your payment information to avoid suspension.\",\n",
    "       \"Hai Jhon,thanks for sending over the documents.\",\n",
    "       \"You've been selected for a cash reward claim,here!\"\n",
    "]\n",
    "# labels(1=spam,0=not spam)\n",
    "labels=[1,0,1,0,1,0,1,0,1,0,1,0,1,0,1]\n",
    "#Preprocess function\n",
    "def preprocess_text(text):\n",
    "    text=text.lower()\n",
    "    text=re.sub(r'[^a-z\\s]','',text)\n",
    "    stop_words=set(stopwords.words('English'))\n",
    "    text=''.join([word for word in text.split() if word not in stop_words])\n",
    "#Stemming\n",
    "    stemmer=PorterStemmer()\n",
    "    text=''.join([stemmer.stem(word)for word in text.split()])\n",
    "    return text\n",
    "#preprocess all mails\n",
    "emails=[preprocess_text(email)for email in emails]\n",
    "#Split data as Train and test sets\n",
    "X_train,X_test,y_train,y_test=train_test_split(emails,labels,test_size=0.3,random_state=42)\n",
    "#Create a pipeline\n",
    "pipeline=Pipeline([('tfidf',TfidfVectorizer()),('model',MultinomialNB())])\n",
    "#Train the Model\n",
    "pipeline.fit(X_train,y_train)\n",
    "#Cross validation\n",
    "cv_scores=cross_val_score(pipeline,emails,labels,cv=5)\n",
    "print(f\"Cross-Validation Accuracy:{cv_scores.mean():.2f}\")\n",
    "#Test the model\n",
    "y_pred=pipeline.predict(X_test)\n",
    "#Evaluate the model\n",
    "accuracy=accuracy_score(y_test,y_pred)\n",
    "print(f\"Test Acuuracy:{accuracy:.2f}\")\n",
    "print(\"\\n Classification Report:\\n\",classification_report(y_test,y_pred))\n",
    "joblib.dump(pipeline,'spam_classifier_model.pkl')\n",
    "print(\"\\nModel saved as 'spam_classifier_model.pkl',\")\n",
    "test_email=[\"You are a lucky winner!claim your prize now.\"]\n",
    "test_email_preposs=[preprocess_text(email) for email in test_email]\n",
    "prediction=pipeline.predict(test_email_preposs)\n",
    "print(\"\\nPrediction for test email(0=not spam,1=spam):\",prediction[0])"
   ]
  },
  {
   "cell_type": "code",
   "execution_count": null,
   "id": "f9e63103",
   "metadata": {},
   "outputs": [],
   "source": []
  }
 ],
 "metadata": {
  "kernelspec": {
   "display_name": "Python 3 (ipykernel)",
   "language": "python",
   "name": "python3"
  },
  "language_info": {
   "codemirror_mode": {
    "name": "ipython",
    "version": 3
   },
   "file_extension": ".py",
   "mimetype": "text/x-python",
   "name": "python",
   "nbconvert_exporter": "python",
   "pygments_lexer": "ipython3",
   "version": "3.9.12"
  }
 },
 "nbformat": 4,
 "nbformat_minor": 5
}
