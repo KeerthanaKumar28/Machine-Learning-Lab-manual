{
 "cells": [
  {
   "cell_type": "code",
   "execution_count": 3,
   "id": "e8f91e3a",
   "metadata": {},
   "outputs": [
    {
     "name": "stdout",
     "output_type": "stream",
     "text": [
      "    Accuracy      Speed    Stamina  Age\n",
      "0  68.727006  27.290072  96.330635   31\n",
      "1  97.535715  27.712703  69.582476   23\n",
      "2  86.599697  20.740447  65.795795   23\n",
      "3  79.932924  23.584657  79.578110   30\n",
      "4  57.800932  21.158691  99.426018   36\n",
      "\n",
      "Missing values in dataset:\n",
      "Accuracy    0\n",
      "Speed       0\n",
      "Stamina     0\n",
      "Age         0\n",
      "dtype: int64\n"
     ]
    },
    {
     "data": {
      "image/png": "[encoded data removed]",
      "text/plain": [
       "<Figure size 432x288 with 1 Axes>"
      ]
     },
     "metadata": {
      "needs_background": "light"
     },
     "output_type": "display_data"
    },
    {
     "name": "stdout",
     "output_type": "stream",
     "text": [
      "\n",
      "Accuracy without outliers: 1.0\n",
      "Accuracy with outliers: 1.0\n"
     ]
    },
    {
     "data": {
      "image/png": "[encoded data removed]",
      "text/plain": [
       "<Figure size 864x360 with 4 Axes>"
      ]
     },
     "metadata": {
      "needs_background": "light"
     },
     "output_type": "display_data"
    }
   ],
   "source": [
    "import pandas as pd\n",
    "import numpy as np\n",
    "from sklearn.model_selection import train_test_split\n",
    "from sklearn.preprocessing import StandardScaler\n",
    "from sklearn.neighbors import KNeighborsClassifier\n",
    "from sklearn.metrics import accuracy_score, confusion_matrix\n",
    "import matplotlib.pyplot as plt\n",
    "import seaborn as sns\n",
    "\n",
    "# Step 1: Load the dataset\n",
    "data = pd.read_csv(\"player_stats.csv\")\n",
    "\n",
    "# Explore the first few rows of the dataset\n",
    "print(data.head())\n",
    "\n",
    "# Step 2: Check for missing values and handle them (optional)\n",
    "print(\"\\nMissing values in dataset:\")\n",
    "print(data.isnull().sum())\n",
    "\n",
    "# Drop rows with missing values (if any)\n",
    "data.dropna(inplace=True)\n",
    "\n",
    "# Step 3: Outlier Detection (Z-Score Method)\n",
    "from scipy.stats import zscore\n",
    "\n",
    "# Calculate Z-scores\n",
    "z_scores = np.abs(zscore(data[['Accuracy', 'Speed', 'Stamina', 'Age']]))\n",
    "outliers = (z_scores > 3).all(axis=1)  # Any row with all features > 3 standard deviations\n",
    "\n",
    "# Add a column to mark outliers\n",
    "data['outlier'] = outliers\n",
    "\n",
    "# Visualizing outliers\n",
    "sns.boxplot(data=data[['Accuracy', 'Speed', 'Stamina', 'Age']])\n",
    "plt.title(\"Boxplot for Feature Distributions\")\n",
    "plt.show()\n",
    "\n",
    "# Step 4: Split the dataset into features (X) and target (y)\n",
    "X = data[['Accuracy', 'Speed', 'Stamina', 'Age']]\n",
    "y = data['outlier']  # For simplicity, let's predict if a player is an outlier or not\n",
    "\n",
    "# Step 5: Split the data into training and testing sets\n",
    "X_train, X_test, y_train, y_test = train_test_split(X, y, test_size=0.3, random_state=42)\n",
    "\n",
    "# Step 6: Scale features (important for KNN)\n",
    "scaler = StandardScaler()\n",
    "X_train_scaled = scaler.fit_transform(X_train)\n",
    "X_test_scaled = scaler.transform(X_test)\n",
    "\n",
    "# Step 7: Build KNN Model without outliers (For comparison)\n",
    "knn_no_outliers = KNeighborsClassifier(n_neighbors=3)\n",
    "knn_no_outliers.fit(X_train_scaled, y_train)\n",
    "\n",
    "# Step 8: Make predictions and evaluate the model\n",
    "y_pred_no_outliers = knn_no_outliers.predict(X_test_scaled)\n",
    "\n",
    "# Accuracy and confusion matrix\n",
    "accuracy_no_outliers = accuracy_score(y_test, y_pred_no_outliers)\n",
    "cm_no_outliers = confusion_matrix(y_test, y_pred_no_outliers)\n",
    "\n",
    "# Step 9: Build KNN Model with outliers\n",
    "# Add outliers back into the training set\n",
    "X_train_outliers = X_train_scaled  # Use the scaled features including outliers\n",
    "X_test_outliers = X_test_scaled\n",
    "\n",
    "knn_with_outliers = KNeighborsClassifier(n_neighbors=3)\n",
    "knn_with_outliers.fit(X_train_outliers, y_train)\n",
    "\n",
    "# Step 10: Make predictions with outliers and evaluate\n",
    "y_pred_with_outliers = knn_with_outliers.predict(X_test_outliers)\n",
    "\n",
    "# Accuracy and confusion matrix\n",
    "accuracy_with_outliers = accuracy_score(y_test, y_pred_with_outliers)\n",
    "cm_with_outliers = confusion_matrix(y_test, y_pred_with_outliers)\n",
    "\n",
    "# Step 11: Compare the results\n",
    "print(\"\\nAccuracy without outliers:\", accuracy_no_outliers)\n",
    "print(\"Accuracy with outliers:\", accuracy_with_outliers)\n",
    "\n",
    "# Plot the confusion matrices\n",
    "fig, ax = plt.subplots(1, 2, figsize=(12, 5))\n",
    "\n",
    "sns.heatmap(cm_no_outliers, annot=True, fmt='d', cmap='Blues', xticklabels=['Normal', 'Outlier'], yticklabels=['Normal', 'Outlier'], ax=ax[0])\n",
    "ax[0].set_title(\"Confusion Matrix without Outliers\")\n",
    "\n",
    "sns.heatmap(cm_with_outliers, annot=True, fmt='d', cmap='Blues', xticklabels=['Normal', 'Outlier'], yticklabels=['Normal', 'Outlier'], ax=ax[1])\n",
    "ax[1].set_title(\"Confusion Matrix with Outliers\")\n",
    "\n",
    "plt.tight_layout()\n",
    "plt.show()\n"
   ]
  },
  {
   "cell_type": "code",
   "execution_count": null,
   "id": "df93a976",
   "metadata": {},
   "outputs": [],
   "source": []
  }
 ],
 "metadata": {
  "kernelspec": {
   "display_name": "Python 3 (ipykernel)",
   "language": "python",
   "name": "python3"
  },
  "language_info": {
   "codemirror_mode": {
    "name": "ipython",
    "version": 3
   },
   "file_extension": ".py",
   "mimetype": "text/x-python",
   "name": "python",
   "nbconvert_exporter": "python",
   "pygments_lexer": "ipython3",
   "version": "3.9.12"
  }
 },
 "nbformat": 4,
 "nbformat_minor": 5
}
