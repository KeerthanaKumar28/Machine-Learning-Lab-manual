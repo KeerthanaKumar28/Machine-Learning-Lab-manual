{
 "cells": [
  {
   "cell_type": "code",
   "execution_count": 1,
   "id": "27275d4b-ca55-4628-8231-8719ca88a9bf",
   "metadata": {},
   "outputs": [
    {
     "name": "stdout",
     "output_type": "stream",
     "text": [
      "Dataset Preview:\n",
      "    experience qualifications   industry  location company_size  salary\n",
      "0           5      Bachelors         IT  New York       Medium   70000\n",
      "1           3        Masters    Finance    London        Small   60000\n",
      "2          10           Ph D         IT  New York        Large  100000\n",
      "3           2      Bachelors    Finance        US        Small  100000\n",
      "4           4        Masters  Marketing  New York       Medium   30000\n",
      "Mean Squared Error: 15006673999999.996\n",
      "R-squared Score: -3061.586530612244\n"
     ]
    }
   ],
   "source": [
    "# Import necessary libraries\n",
    "import pandas as pd\n",
    "from sklearn.model_selection import train_test_split\n",
    "from sklearn.linear_model import LinearRegression\n",
    "from sklearn.metrics import mean_squared_error, r2_score\n",
    "from sklearn.preprocessing import OneHotEncoder\n",
    "from sklearn.compose import ColumnTransformer\n",
    "\n",
    "# Load Dataset\n",
    "file_path = 'Salary.csv'  # Replace with your file path\n",
    "data = pd.read_csv('Salary.csv')\n",
    "\n",
    "# Check data structure\n",
    "print(\"Dataset Preview:\\n\", data.head())\n",
    "\n",
    "# Features and Target\n",
    "X = data[['experience', 'qualifications', 'industry', 'location', 'company_size']]  # Added 'company_size'\n",
    "y = data['salary']  # Target variable\n",
    "\n",
    "# Preprocessing: One-Hot Encoding for Categorical Features\n",
    "categorical_features = ['qualifications', 'industry', 'location', 'company_size']  # Added 'company_size'\n",
    "preprocessor = ColumnTransformer(\n",
    "    transformers=[\n",
    "        ('cat', OneHotEncoder(drop='first'), categorical_features)],\n",
    "    remainder='passthrough')\n",
    "\n",
    "X = preprocessor.fit_transform(X)\n",
    "\n",
    "# Splitting Data into Train and Test Sets\n",
    "X_train, X_test, y_train, y_test = train_test_split(X, y, test_size=0.2, random_state=42)\n",
    "\n",
    "# Initialize and Train Linear Regression Model\n",
    "model = LinearRegression()\n",
    "model.fit(X_train, y_train)\n",
    "\n",
    "# Predict on Test Set\n",
    "y_pred = model.predict(X_test)\n",
    "\n",
    "# Model Evaluation\n",
    "mse = mean_squared_error(y_test, y_pred)\n",
    "r2 = r2_score(y_test, y_pred)\n",
    "\n",
    "print(\"Mean Squared Error:\", mse)\n",
    "print(\"R-squared Score:\", r2)\n"
   ]
  },
  {
   "cell_type": "code",
   "execution_count": null,
   "id": "bcf3fce3-34a2-4153-b8eb-ff80a0d3a280",
   "metadata": {},
   "outputs": [],
   "source": []
  }
 ],
 "metadata": {
  "kernelspec": {
   "display_name": "Python 3 (ipykernel)",
   "language": "python",
   "name": "python3"
  },
  "language_info": {
   "codemirror_mode": {
    "name": "ipython",
    "version": 3
   },
   "file_extension": ".py",
   "mimetype": "text/x-python",
   "name": "python",
   "nbconvert_exporter": "python",
   "pygments_lexer": "ipython3",
   "version": "3.12.4"
  }
 },
 "nbformat": 4,
 "nbformat_minor": 5
}
